{
 "cells": [
  {
   "cell_type": "code",
   "execution_count": 5,
   "metadata": {},
   "outputs": [],
   "source": [
    "import sys\n",
    "sys.path.append('../')\n",
    "from libraries.listdirNoHidden import listdirNoHidden as ldnh\n",
    "from libraries.Transformer import Transformer\n",
    "from PIL import Image\n"
   ]
  },
  {
   "cell_type": "code",
   "execution_count": 6,
   "metadata": {},
   "outputs": [],
   "source": [
    "for imgPath in ldnh('../../datasets/rescaled_dataset/images'):\n",
    "\timage = Image.open(imgPath)\n",
    "\timgName = imgPath.split('/')[-1]\n",
    "\tTransformer.zoom(image).save('../../datasets/zoomed_dataset/' + imgName)\n",
    "\tTransformer.downscale(image).save('../../datasets/downscaled_dataset/' + imgName)\n",
    "\tTransformer.horflip(image).save('../../datasets/hor_dataset/' + imgName)\n",
    "\tTransformer.verflip(image).save('../../datasets/ver_dataset/' + imgName)\n",
    "\tTransformer.gNoise(image).save('../../datasets/gNoise_dataset/' + imgName)\n",
    "\tTransformer.gBlur(image).save('../../datasets/gBlur_dataset/' + imgName)"
   ]
  },
  {
   "cell_type": "code",
   "execution_count": 7,
   "metadata": {},
   "outputs": [],
   "source": [
    "for imgPath in ldnh('../../datasets/rescaled_dataset/images/'):\n",
    "  image = Image.open(imgPath)\n",
    "  imgName = imgPath.split('/')[-1]\n",
    "  imageArr = Transformer.combined(image, imgName)\n",
    "  for image, newName in imageArr:\n",
    "    image.save('../../datasets/combined_dataset/'+ newName)"
   ]
  }
 ],
 "metadata": {
  "kernelspec": {
   "display_name": "Python 3",
   "language": "python",
   "name": "python3"
  },
  "language_info": {
   "codemirror_mode": {
    "name": "ipython",
    "version": 3
   },
   "file_extension": ".py",
   "mimetype": "text/x-python",
   "name": "python",
   "nbconvert_exporter": "python",
   "pygments_lexer": "ipython3",
   "version": "3.11.4"
  }
 },
 "nbformat": 4,
 "nbformat_minor": 2
}
