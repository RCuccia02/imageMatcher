{
 "cells": [
  {
   "cell_type": "code",
   "execution_count": 1,
   "metadata": {},
   "outputs": [],
   "source": [
    "import sys\n",
    "sys.path.append('../')\n",
    "import cv2\n",
    "import numpy as np\n",
    "import os\n",
    "from libraries.Detector import Detector\n",
    "from libraries.FileManagerKPDS import FileManagerKPDS as fmkpds\n",
    "from libraries.listdirNoHidden import listdirNoHidden as ldnh\n"
   ]
  },
  {
   "cell_type": "code",
   "execution_count": 2,
   "metadata": {},
   "outputs": [],
   "source": [
    "parentPath = \"../../datasets/\"\n",
    "dataset = \"rescaled_dataset/\"\n",
    "method = \"ORB\"\n",
    "\n",
    "# Create detector\n",
    "detector = Detector.defineDetector(method)"
   ]
  },
  {
   "cell_type": "code",
   "execution_count": 3,
   "metadata": {},
   "outputs": [
    {
     "name": "stdout",
     "output_type": "stream",
     "text": [
      "Average number of descriptors:  17800.12962962963\n",
      "max number of descriptors:  19049\n"
     ]
    }
   ],
   "source": [
    "lendes = []\n",
    "for imageName in os.listdir(os.path.join(parentPath, dataset, 'images')):\n",
    "\timg = cv2.imread(os.path.join(parentPath, dataset, 'images', imageName))\n",
    "\tkp, des = detector.detectAndCompute(img, None)\n",
    "\tlendes.append(len(des))\n",
    "\tsavepath = parentPath + dataset\n",
    "\tfmkpds.saveDS(savepath, imageName, des, method)\n",
    "\tsavepath = parentPath + dataset\n",
    "\tfmkpds.saveKP(savepath, imageName, kp, method)\n",
    "\n",
    "print(\"Average number of descriptors: \", np.mean(lendes))\n",
    "print(\"max number of descriptors: \", np.max(lendes))\n"
   ]
  }
 ],
 "metadata": {
  "kernelspec": {
   "display_name": "Python 3",
   "language": "python",
   "name": "python3"
  },
  "language_info": {
   "codemirror_mode": {
    "name": "ipython",
    "version": 3
   },
   "file_extension": ".py",
   "mimetype": "text/x-python",
   "name": "python",
   "nbconvert_exporter": "python",
   "pygments_lexer": "ipython3",
   "version": "3.11.4"
  }
 },
 "nbformat": 4,
 "nbformat_minor": 2
}
