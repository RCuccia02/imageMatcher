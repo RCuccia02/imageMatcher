{
 "cells": [
  {
   "cell_type": "code",
   "execution_count": 7,
   "metadata": {},
   "outputs": [],
   "source": [
    "import sys\n",
    "sys.path.append('../')\n",
    "import os\n",
    "import cv2\n",
    "from libraries.listdirNoHidden import listdirNoHidden as ldnh\n",
    "from libraries.FileManagerKPDS import FileManagerKPDS as fm\n",
    "from libraries.Matcher import Matcher\n",
    "from libraries.Detector import Detector"
   ]
  },
  {
   "cell_type": "code",
   "execution_count": 8,
   "metadata": {},
   "outputs": [],
   "source": [
    "datasetPath = '../../datasets/rescaled_dataset/'\n",
    "img2Path = '../../datasets/gBlur_dataset/20221014_150454.jpg'\n",
    "img2 = cv2.imread(img2Path)\n",
    "method = 'ORB'\n",
    "\n",
    "detector = Detector.defineDetector(method)\n",
    "\n",
    "kp2, des2 = detector.detectAndCompute(img2, None)\n",
    "\n",
    "\n"
   ]
  },
  {
   "cell_type": "code",
   "execution_count": 9,
   "metadata": {},
   "outputs": [
    {
     "name": "stdout",
     "output_type": "stream",
     "text": [
      "51 17246\n",
      "25 19049\n",
      "71 17164\n",
      "59 19049\n",
      "40 12550\n",
      "62 14233\n",
      "52 17804\n",
      "42 18821\n",
      "72 17498\n",
      "57 17308\n",
      "31 19049\n",
      "71 18572\n",
      "72 18320\n",
      "46 18627\n",
      "46 19049\n",
      "55 18993\n",
      "69 16908\n",
      "60 18702\n",
      "74 14827\n",
      "78 18497\n",
      "41 18521\n",
      "50 17505\n",
      "65 17819\n",
      "81 19049\n",
      "50 17214\n",
      "56 18249\n",
      "41 16519\n",
      "960 16652\n",
      "31 18755\n",
      "65 15020\n",
      "71 16976\n",
      "71 19049\n",
      "58 15676\n",
      "47 19049\n",
      "70 16598\n",
      "57 17395\n",
      "53 18101\n",
      "110 18968\n",
      "67 19049\n",
      "73 16793\n",
      "50 18564\n",
      "56 18426\n",
      "46 15832\n",
      "65 18880\n",
      "85 18434\n",
      "65 18840\n",
      "27 19049\n",
      "71 16357\n",
      "68 18592\n",
      "50 17775\n",
      "69 18865\n",
      "57 18405\n",
      "34 19008\n",
      "47 18957\n"
     ]
    }
   ],
   "source": [
    "scores = []\n",
    "for imgPath in ldnh(os.path.join(datasetPath, 'images')):\n",
    "  imgName = os.path.basename(imgPath)\n",
    "  img1 = cv2.imread(imgPath)\n",
    "  kp1 = fm.loadKP(datasetPath, imgName, method)\n",
    "  des1 = fm.loadDS(datasetPath, imgName, method)\n",
    "  matches = Matcher.getMatches(des1, des2, method)\n",
    "  good, mask = Matcher.lowe(matches, 0.7)\n",
    "  #Matcher.showMatches(img1, kp1, img2, kp2, matches, mask)\n",
    "  scores.append((imgName, len(good), img1, kp1, img2, kp2, matches, mask))\n",
    "\n",
    "scores.sort(key=lambda tup: tup[1], reverse=True)\n",
    "for score in scores:\n",
    "  #print(score[0], score[1])\n",
    "  Matcher.showMatches(score[2], score[3], score[4], score[5], score[6], score[7])\n",
    "\t"
   ]
  },
  {
   "cell_type": "code",
   "execution_count": null,
   "metadata": {},
   "outputs": [],
   "source": []
  }
 ],
 "metadata": {
  "kernelspec": {
   "display_name": "Python 3",
   "language": "python",
   "name": "python3"
  },
  "language_info": {
   "codemirror_mode": {
    "name": "ipython",
    "version": 3
   },
   "file_extension": ".py",
   "mimetype": "text/x-python",
   "name": "python",
   "nbconvert_exporter": "python",
   "pygments_lexer": "ipython3",
   "version": "3.11.4"
  }
 },
 "nbformat": 4,
 "nbformat_minor": 2
}
